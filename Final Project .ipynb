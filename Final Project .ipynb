{
 "cells": [
  {
   "cell_type": "code",
   "execution_count": 1,
   "metadata": {},
   "outputs": [],
   "source": [
    "# Importing all necessary libraries\n",
    "import pandas as pd\n",
    "import numpy as np\n",
    "import matplotlib.pyplot as plt\n",
    "from scipy.stats import norm\n",
    "import statistics\n",
    "import cantera as ct"
   ]
  },
  {
   "cell_type": "code",
   "execution_count": 2,
   "metadata": {},
   "outputs": [],
   "source": [
    "# Initially used the following code in MatLab to convert the .mat data files to csv\n",
    "# csvwrite('NCO_big_1332.csv', NCO_01)\n",
    "# csvwrite('P_big_1332.csv', P_01)\n",
    "# csvwrite('T_big_1332.csv', T_01)\n",
    "# a different code was used for each run of the data, 1332 pertains to Run 01"
   ]
  },
  {
   "cell_type": "code",
   "execution_count": 3,
   "metadata": {},
   "outputs": [],
   "source": [
    "# Importing data as dataframes by calling the first data csv file NCO_# and adding columns from T_# and P_#\n",
    "\n",
    "run1 = pd.read_csv('NCO_01.csv', header=None, names=['NCO']) #create run1 dataframe\n",
    "run1['Pressure'] = pd.read_csv('P_01.csv', header=None) #append run1 with Pressure data from run 01\n",
    "run1['Temperature'] = pd.read_csv('T_01.csv', header=None) #append run1 with Temperature data from run 01\n",
    "\n",
    "run5 = pd.read_csv('NCO_05.csv', header=None, names=['NCO'])\n",
    "run5['Pressure'] = pd.read_csv('P_05.csv', header=None)\n",
    "run5['Temperature'] = pd.read_csv('T_05.csv', header=None)\n",
    "\n",
    "run9 = pd.read_csv('NCO_09.csv', header=None, names=['NCO'])\n",
    "run9['Pressure'] = pd.read_csv('P_09.csv', header=None)\n",
    "run9['Temperature'] = pd.read_csv('T_09.csv', header=None)\n",
    "\n",
    "run11 = pd.read_csv('NCO_11.csv', header=None, names=['NCO'])\n",
    "run11['Pressure'] = pd.read_csv('P_11.csv', header=None)\n",
    "run11['Temperature'] = pd.read_csv('T_11.csv', header=None)"
   ]
  },
  {
   "cell_type": "code",
   "execution_count": 4,
   "metadata": {},
   "outputs": [
    {
     "name": "stdout",
     "output_type": "stream",
     "text": [
      "            NCO  Pressure  Temperature\n",
      "0  3.558400e+17      2.51       2919.2\n",
      "1  5.569900e+17      2.49       2833.9\n",
      "2  7.094200e+17      2.35       2765.3\n",
      "3  8.750300e+17      2.25       2758.2\n",
      "4  1.082600e+18      2.37       2753.4\n",
      "            NCO  Pressure  Temperature\n",
      "0  6.028600e+16   0.57403       2249.0\n",
      "1  5.762000e+16   0.64954       1932.8\n",
      "2  5.544700e+16   0.61679       2026.4\n",
      "3  6.341100e+16   0.75650       1865.9\n",
      "4  7.941800e+16   0.83119       2535.5\n",
      "            NCO  Pressure  Temperature\n",
      "0  1.564200e+17    1.6436       1841.7\n",
      "1  1.604000e+17    1.5679       2061.3\n",
      "2  1.875900e+17    1.6334       2124.7\n",
      "3  2.010000e+17    1.5393       2050.1\n",
      "4  2.326600e+17    1.6057       2144.8\n",
      "            NCO  Pressure  Temperature\n",
      "0  5.865700e+17   0.69161       2023.4\n",
      "1  5.813200e+17   0.65457       1911.5\n",
      "2  5.633000e+17   0.64446       1765.3\n",
      "3  5.300100e+17   0.59695       1562.2\n",
      "4  5.420200e+17   0.61506       1591.2\n"
     ]
    },
    {
     "data": {
      "text/plain": [
       "5.78"
      ]
     },
     "execution_count": 4,
     "metadata": {},
     "output_type": "execute_result"
    }
   ],
   "source": [
    "# checking data\n",
    "print(run1.head())\n",
    "print(run5.head())\n",
    "print(run9.head())\n",
    "print(run11.head())\n",
    "max(run1['Pressure'])"
   ]
  },
  {
   "cell_type": "code",
   "execution_count": 5,
   "metadata": {},
   "outputs": [
    {
     "name": "stdout",
     "output_type": "stream",
     "text": [
      "(780853, 3)\n",
      "(377296, 3)\n",
      "(779528, 3)\n",
      "(404334, 3)\n"
     ]
    }
   ],
   "source": [
    "# checking lengths for all dataframes for comparison\n",
    "print(run1.shape)\n",
    "print(run5.shape)\n",
    "print(run9.shape)\n",
    "print(run11.shape)"
   ]
  },
  {
   "cell_type": "code",
   "execution_count": 6,
   "metadata": {},
   "outputs": [
    {
     "name": "stdout",
     "output_type": "stream",
     "text": [
      "5.78\n",
      "5.2519\n",
      "6.2109\n",
      "1.8232\n"
     ]
    }
   ],
   "source": [
    "# Comparing max Pressure in each run\n",
    "print(max(run1['Pressure'])) # \n",
    "print(max(run5['Pressure']))\n",
    "print(max(run9['Pressure']))\n",
    "print(max(run11['Pressure']))"
   ]
  },
  {
   "cell_type": "code",
   "execution_count": 7,
   "metadata": {},
   "outputs": [
    {
     "name": "stdout",
     "output_type": "stream",
     "text": [
      "1.0628e+19\n",
      "1.2962e+18\n",
      "9.4954e+18\n",
      "1.4662e+18\n"
     ]
    }
   ],
   "source": [
    "# Comparing max NCO in each run\n",
    "print(max(run1['NCO'])) \n",
    "print(max(run5['NCO']))\n",
    "print(max(run9['NCO']))\n",
    "print(max(run11['NCO']))"
   ]
  },
  {
   "cell_type": "code",
   "execution_count": null,
   "metadata": {},
   "outputs": [],
   "source": []
  }
 ],
 "metadata": {
  "kernelspec": {
   "display_name": "Python 3",
   "language": "python",
   "name": "python3"
  },
  "language_info": {
   "codemirror_mode": {
    "name": "ipython",
    "version": 3
   },
   "file_extension": ".py",
   "mimetype": "text/x-python",
   "name": "python",
   "nbconvert_exporter": "python",
   "pygments_lexer": "ipython3",
   "version": "3.8.5"
  }
 },
 "nbformat": 4,
 "nbformat_minor": 4
}
